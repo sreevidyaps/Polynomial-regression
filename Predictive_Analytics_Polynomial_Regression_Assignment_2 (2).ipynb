{
  "cells": [
    {
      "cell_type": "markdown",
      "metadata": {
        "id": "AtzSquaQnaBD"
      },
      "source": [
        "# Problem Description:\n",
        "A Human Resource company needs to determine the salary for a new job position being created. They only have access to a salary dataset for the company, which includes salary information for the top 10 positions along with their corresponding levels. The task is to assist HR in deciding the appropriate salary if the new position falls between levels 7 and 8.\n",
        "\n",
        "Data Set: **Position_Salaries.csv**\n",
        "Rules: You are restricted from utilizing the sklearn library.You are limited to using only the libraries provided.\n",
        "\n",
        "Reference : https://www.javatpoint.com/machine-learning-polynomial-regression\n",
        "\n",
        " https://www.kaggle.com/code/omkarsantoshraut/polynomial-regression"
      ]
    },
    {
      "cell_type": "code",
      "execution_count": 2,
      "metadata": {
        "id": "1tJn4PzWnZtz"
      },
      "outputs": [],
      "source": [
        "# Allowded to use only these libraries\n",
        "\n",
        "import numpy as np\n",
        "import matplotlib.pyplot as plt\n",
        "import pandas as pd\n",
        "import seaborn as sns"
      ]
    },
    {
      "cell_type": "markdown",
      "metadata": {
        "id": "pDonG1iOtiCP"
      },
      "source": [
        "## Exploratory data analysis"
      ]
    },
    {
      "cell_type": "code",
      "execution_count": 3,
      "metadata": {
        "id": "BUFCZbfRlfzi",
        "colab": {
          "base_uri": "https://localhost:8080/",
          "height": 206
        },
        "outputId": "740edfb5-4d80-4db7-8c0c-c830afa041fb"
      },
      "outputs": [
        {
          "output_type": "execute_result",
          "data": {
            "text/plain": [
              "            Position  Level  Salary\n",
              "0   Business Analyst      1   45000\n",
              "1  Junior Consultant      2   50000\n",
              "2  Senior Consultant      3   60000\n",
              "3            Manager      4   80000\n",
              "4    Country Manager      5  110000"
            ],
            "text/html": [
              "\n",
              "  <div id=\"df-8508283a-2521-4a38-8852-a0297862a7ab\" class=\"colab-df-container\">\n",
              "    <div>\n",
              "<style scoped>\n",
              "    .dataframe tbody tr th:only-of-type {\n",
              "        vertical-align: middle;\n",
              "    }\n",
              "\n",
              "    .dataframe tbody tr th {\n",
              "        vertical-align: top;\n",
              "    }\n",
              "\n",
              "    .dataframe thead th {\n",
              "        text-align: right;\n",
              "    }\n",
              "</style>\n",
              "<table border=\"1\" class=\"dataframe\">\n",
              "  <thead>\n",
              "    <tr style=\"text-align: right;\">\n",
              "      <th></th>\n",
              "      <th>Position</th>\n",
              "      <th>Level</th>\n",
              "      <th>Salary</th>\n",
              "    </tr>\n",
              "  </thead>\n",
              "  <tbody>\n",
              "    <tr>\n",
              "      <th>0</th>\n",
              "      <td>Business Analyst</td>\n",
              "      <td>1</td>\n",
              "      <td>45000</td>\n",
              "    </tr>\n",
              "    <tr>\n",
              "      <th>1</th>\n",
              "      <td>Junior Consultant</td>\n",
              "      <td>2</td>\n",
              "      <td>50000</td>\n",
              "    </tr>\n",
              "    <tr>\n",
              "      <th>2</th>\n",
              "      <td>Senior Consultant</td>\n",
              "      <td>3</td>\n",
              "      <td>60000</td>\n",
              "    </tr>\n",
              "    <tr>\n",
              "      <th>3</th>\n",
              "      <td>Manager</td>\n",
              "      <td>4</td>\n",
              "      <td>80000</td>\n",
              "    </tr>\n",
              "    <tr>\n",
              "      <th>4</th>\n",
              "      <td>Country Manager</td>\n",
              "      <td>5</td>\n",
              "      <td>110000</td>\n",
              "    </tr>\n",
              "  </tbody>\n",
              "</table>\n",
              "</div>\n",
              "    <div class=\"colab-df-buttons\">\n",
              "\n",
              "  <div class=\"colab-df-container\">\n",
              "    <button class=\"colab-df-convert\" onclick=\"convertToInteractive('df-8508283a-2521-4a38-8852-a0297862a7ab')\"\n",
              "            title=\"Convert this dataframe to an interactive table.\"\n",
              "            style=\"display:none;\">\n",
              "\n",
              "  <svg xmlns=\"http://www.w3.org/2000/svg\" height=\"24px\" viewBox=\"0 -960 960 960\">\n",
              "    <path d=\"M120-120v-720h720v720H120Zm60-500h600v-160H180v160Zm220 220h160v-160H400v160Zm0 220h160v-160H400v160ZM180-400h160v-160H180v160Zm440 0h160v-160H620v160ZM180-180h160v-160H180v160Zm440 0h160v-160H620v160Z\"/>\n",
              "  </svg>\n",
              "    </button>\n",
              "\n",
              "  <style>\n",
              "    .colab-df-container {\n",
              "      display:flex;\n",
              "      gap: 12px;\n",
              "    }\n",
              "\n",
              "    .colab-df-convert {\n",
              "      background-color: #E8F0FE;\n",
              "      border: none;\n",
              "      border-radius: 50%;\n",
              "      cursor: pointer;\n",
              "      display: none;\n",
              "      fill: #1967D2;\n",
              "      height: 32px;\n",
              "      padding: 0 0 0 0;\n",
              "      width: 32px;\n",
              "    }\n",
              "\n",
              "    .colab-df-convert:hover {\n",
              "      background-color: #E2EBFA;\n",
              "      box-shadow: 0px 1px 2px rgba(60, 64, 67, 0.3), 0px 1px 3px 1px rgba(60, 64, 67, 0.15);\n",
              "      fill: #174EA6;\n",
              "    }\n",
              "\n",
              "    .colab-df-buttons div {\n",
              "      margin-bottom: 4px;\n",
              "    }\n",
              "\n",
              "    [theme=dark] .colab-df-convert {\n",
              "      background-color: #3B4455;\n",
              "      fill: #D2E3FC;\n",
              "    }\n",
              "\n",
              "    [theme=dark] .colab-df-convert:hover {\n",
              "      background-color: #434B5C;\n",
              "      box-shadow: 0px 1px 3px 1px rgba(0, 0, 0, 0.15);\n",
              "      filter: drop-shadow(0px 1px 2px rgba(0, 0, 0, 0.3));\n",
              "      fill: #FFFFFF;\n",
              "    }\n",
              "  </style>\n",
              "\n",
              "    <script>\n",
              "      const buttonEl =\n",
              "        document.querySelector('#df-8508283a-2521-4a38-8852-a0297862a7ab button.colab-df-convert');\n",
              "      buttonEl.style.display =\n",
              "        google.colab.kernel.accessAllowed ? 'block' : 'none';\n",
              "\n",
              "      async function convertToInteractive(key) {\n",
              "        const element = document.querySelector('#df-8508283a-2521-4a38-8852-a0297862a7ab');\n",
              "        const dataTable =\n",
              "          await google.colab.kernel.invokeFunction('convertToInteractive',\n",
              "                                                    [key], {});\n",
              "        if (!dataTable) return;\n",
              "\n",
              "        const docLinkHtml = 'Like what you see? Visit the ' +\n",
              "          '<a target=\"_blank\" href=https://colab.research.google.com/notebooks/data_table.ipynb>data table notebook</a>'\n",
              "          + ' to learn more about interactive tables.';\n",
              "        element.innerHTML = '';\n",
              "        dataTable['output_type'] = 'display_data';\n",
              "        await google.colab.output.renderOutput(dataTable, element);\n",
              "        const docLink = document.createElement('div');\n",
              "        docLink.innerHTML = docLinkHtml;\n",
              "        element.appendChild(docLink);\n",
              "      }\n",
              "    </script>\n",
              "  </div>\n",
              "\n",
              "\n",
              "<div id=\"df-afd94d0b-83fe-4046-8667-b4ade310796e\">\n",
              "  <button class=\"colab-df-quickchart\" onclick=\"quickchart('df-afd94d0b-83fe-4046-8667-b4ade310796e')\"\n",
              "            title=\"Suggest charts\"\n",
              "            style=\"display:none;\">\n",
              "\n",
              "<svg xmlns=\"http://www.w3.org/2000/svg\" height=\"24px\"viewBox=\"0 0 24 24\"\n",
              "     width=\"24px\">\n",
              "    <g>\n",
              "        <path d=\"M19 3H5c-1.1 0-2 .9-2 2v14c0 1.1.9 2 2 2h14c1.1 0 2-.9 2-2V5c0-1.1-.9-2-2-2zM9 17H7v-7h2v7zm4 0h-2V7h2v10zm4 0h-2v-4h2v4z\"/>\n",
              "    </g>\n",
              "</svg>\n",
              "  </button>\n",
              "\n",
              "<style>\n",
              "  .colab-df-quickchart {\n",
              "      --bg-color: #E8F0FE;\n",
              "      --fill-color: #1967D2;\n",
              "      --hover-bg-color: #E2EBFA;\n",
              "      --hover-fill-color: #174EA6;\n",
              "      --disabled-fill-color: #AAA;\n",
              "      --disabled-bg-color: #DDD;\n",
              "  }\n",
              "\n",
              "  [theme=dark] .colab-df-quickchart {\n",
              "      --bg-color: #3B4455;\n",
              "      --fill-color: #D2E3FC;\n",
              "      --hover-bg-color: #434B5C;\n",
              "      --hover-fill-color: #FFFFFF;\n",
              "      --disabled-bg-color: #3B4455;\n",
              "      --disabled-fill-color: #666;\n",
              "  }\n",
              "\n",
              "  .colab-df-quickchart {\n",
              "    background-color: var(--bg-color);\n",
              "    border: none;\n",
              "    border-radius: 50%;\n",
              "    cursor: pointer;\n",
              "    display: none;\n",
              "    fill: var(--fill-color);\n",
              "    height: 32px;\n",
              "    padding: 0;\n",
              "    width: 32px;\n",
              "  }\n",
              "\n",
              "  .colab-df-quickchart:hover {\n",
              "    background-color: var(--hover-bg-color);\n",
              "    box-shadow: 0 1px 2px rgba(60, 64, 67, 0.3), 0 1px 3px 1px rgba(60, 64, 67, 0.15);\n",
              "    fill: var(--button-hover-fill-color);\n",
              "  }\n",
              "\n",
              "  .colab-df-quickchart-complete:disabled,\n",
              "  .colab-df-quickchart-complete:disabled:hover {\n",
              "    background-color: var(--disabled-bg-color);\n",
              "    fill: var(--disabled-fill-color);\n",
              "    box-shadow: none;\n",
              "  }\n",
              "\n",
              "  .colab-df-spinner {\n",
              "    border: 2px solid var(--fill-color);\n",
              "    border-color: transparent;\n",
              "    border-bottom-color: var(--fill-color);\n",
              "    animation:\n",
              "      spin 1s steps(1) infinite;\n",
              "  }\n",
              "\n",
              "  @keyframes spin {\n",
              "    0% {\n",
              "      border-color: transparent;\n",
              "      border-bottom-color: var(--fill-color);\n",
              "      border-left-color: var(--fill-color);\n",
              "    }\n",
              "    20% {\n",
              "      border-color: transparent;\n",
              "      border-left-color: var(--fill-color);\n",
              "      border-top-color: var(--fill-color);\n",
              "    }\n",
              "    30% {\n",
              "      border-color: transparent;\n",
              "      border-left-color: var(--fill-color);\n",
              "      border-top-color: var(--fill-color);\n",
              "      border-right-color: var(--fill-color);\n",
              "    }\n",
              "    40% {\n",
              "      border-color: transparent;\n",
              "      border-right-color: var(--fill-color);\n",
              "      border-top-color: var(--fill-color);\n",
              "    }\n",
              "    60% {\n",
              "      border-color: transparent;\n",
              "      border-right-color: var(--fill-color);\n",
              "    }\n",
              "    80% {\n",
              "      border-color: transparent;\n",
              "      border-right-color: var(--fill-color);\n",
              "      border-bottom-color: var(--fill-color);\n",
              "    }\n",
              "    90% {\n",
              "      border-color: transparent;\n",
              "      border-bottom-color: var(--fill-color);\n",
              "    }\n",
              "  }\n",
              "</style>\n",
              "\n",
              "  <script>\n",
              "    async function quickchart(key) {\n",
              "      const quickchartButtonEl =\n",
              "        document.querySelector('#' + key + ' button');\n",
              "      quickchartButtonEl.disabled = true;  // To prevent multiple clicks.\n",
              "      quickchartButtonEl.classList.add('colab-df-spinner');\n",
              "      try {\n",
              "        const charts = await google.colab.kernel.invokeFunction(\n",
              "            'suggestCharts', [key], {});\n",
              "      } catch (error) {\n",
              "        console.error('Error during call to suggestCharts:', error);\n",
              "      }\n",
              "      quickchartButtonEl.classList.remove('colab-df-spinner');\n",
              "      quickchartButtonEl.classList.add('colab-df-quickchart-complete');\n",
              "    }\n",
              "    (() => {\n",
              "      let quickchartButtonEl =\n",
              "        document.querySelector('#df-afd94d0b-83fe-4046-8667-b4ade310796e button');\n",
              "      quickchartButtonEl.style.display =\n",
              "        google.colab.kernel.accessAllowed ? 'block' : 'none';\n",
              "    })();\n",
              "  </script>\n",
              "</div>\n",
              "\n",
              "    </div>\n",
              "  </div>\n"
            ],
            "application/vnd.google.colaboratory.intrinsic+json": {
              "type": "dataframe",
              "variable_name": "data",
              "summary": "{\n  \"name\": \"data\",\n  \"rows\": 10,\n  \"fields\": [\n    {\n      \"column\": \"Position\",\n      \"properties\": {\n        \"dtype\": \"string\",\n        \"num_unique_values\": 10,\n        \"samples\": [\n          \"C-level\",\n          \"Junior Consultant\",\n          \"Region Manager\"\n        ],\n        \"semantic_type\": \"\",\n        \"description\": \"\"\n      }\n    },\n    {\n      \"column\": \"Level\",\n      \"properties\": {\n        \"dtype\": \"number\",\n        \"std\": 3,\n        \"min\": 1,\n        \"max\": 10,\n        \"num_unique_values\": 10,\n        \"samples\": [\n          9,\n          2,\n          6\n        ],\n        \"semantic_type\": \"\",\n        \"description\": \"\"\n      }\n    },\n    {\n      \"column\": \"Salary\",\n      \"properties\": {\n        \"dtype\": \"number\",\n        \"std\": 299373,\n        \"min\": 45000,\n        \"max\": 1000000,\n        \"num_unique_values\": 10,\n        \"samples\": [\n          500000,\n          50000,\n          150000\n        ],\n        \"semantic_type\": \"\",\n        \"description\": \"\"\n      }\n    }\n  ]\n}"
            }
          },
          "metadata": {},
          "execution_count": 3
        }
      ],
      "source": [
        "data=pd.read_csv('Position_Salaries.csv')\n",
        "data.head()"
      ]
    },
    {
      "cell_type": "code",
      "execution_count": 4,
      "metadata": {
        "id": "fruItrR_cssy"
      },
      "outputs": [],
      "source": [
        "level=data[\"Level\"].values\n",
        "salary=data[\"Salary\"].values"
      ]
    },
    {
      "cell_type": "code",
      "execution_count": 5,
      "metadata": {
        "colab": {
          "base_uri": "https://localhost:8080/"
        },
        "id": "3-r5Ov78cssy",
        "outputId": "abcf82e5-2c7f-424d-89cc-16dd277f7d24"
      },
      "outputs": [
        {
          "output_type": "execute_result",
          "data": {
            "text/plain": [
              "array([ 1,  2,  3,  4,  5,  6,  7,  8,  9, 10])"
            ]
          },
          "metadata": {},
          "execution_count": 5
        }
      ],
      "source": [
        "level"
      ]
    },
    {
      "cell_type": "code",
      "execution_count": null,
      "metadata": {
        "id": "AolClgXScssz"
      },
      "outputs": [],
      "source": []
    },
    {
      "cell_type": "code",
      "execution_count": 7,
      "metadata": {
        "colab": {
          "base_uri": "https://localhost:8080/",
          "height": 472
        },
        "id": "Prx4EytMcssz",
        "outputId": "7647c965-8f05-4b78-c7d7-cf9c546c6e7e"
      },
      "outputs": [
        {
          "output_type": "display_data",
          "data": {
            "text/plain": [
              "<Figure size 640x480 with 1 Axes>"
            ],
            "image/png": "[encoded data removed]"
          },
          "metadata": {}
        }
      ],
      "source": [
        "\n",
        "\n",
        "plt.scatter(level, salary, color = 'blue')\n",
        "\n",
        "# Add title and labels\n",
        "plt.title('Salary vs Level')\n",
        "plt.xlabel('Level')\n",
        "plt.ylabel('Salary')\n",
        "\n",
        "# Show the plot\n",
        "plt.show()"
      ]
    },
    {
      "cell_type": "markdown",
      "metadata": {
        "id": "mvaBWQfAtpp-"
      },
      "source": [
        "### Based on the exploratory data analysis, answer the following\n",
        "\n",
        "\n",
        "* Can you use a simple linear regression model to fit this data (Yes/No)?\n",
        "> * no\n",
        "* If you use a simple linear model to fit this data, will it fit well (Yes/No)?\n",
        "> * no\n",
        "* Explain why you said yes or no to the above questions.\n",
        "> * Data is non-linear\n",
        "\n"
      ]
    },
    {
      "cell_type": "markdown",
      "metadata": {
        "id": "exOvj2CxFelv"
      },
      "source": [
        "## Polynomial Regression\n",
        "\n",
        "**Construct a second order Model:**\n",
        "$$ y = w_1 x_1^2 + w_2x_1 + b$$\n",
        "\n",
        "\n",
        "\n",
        "**Construct a Cost function:**\n",
        "$$MSE(w_1,w_2,b)= \\frac{1}{n} \\sum_{i=1}^n \\left(y_i - (w_1 x_{1i}^2 + w_2 x_{1i} + b)\\right)^2$$"
      ]
    },
    {
      "cell_type": "code",
      "execution_count": 8,
      "metadata": {
        "id": "Da1vxqoEyL-W"
      },
      "outputs": [],
      "source": [
        "#  code to plot the cost function\n",
        "X=level\n",
        "y=salary\n",
        "\n",
        "X_design = np.column_stack((np.ones_like(X), X, X**2))  # Add column of ones for the intercept and X^2 term\n",
        "weights = np.linalg.lstsq(X_design, y, rcond=None)[0]"
      ]
    },
    {
      "cell_type": "code",
      "execution_count": 9,
      "metadata": {
        "colab": {
          "base_uri": "https://localhost:8080/"
        },
        "id": "mRHNtKJjcss0",
        "outputId": "40550199-6086-4274-ece0-b7002da7560b"
      },
      "outputs": [
        {
          "output_type": "execute_result",
          "data": {
            "text/plain": [
              "array([ 232166.66666667, -132871.21212121,   19431.81818182])"
            ]
          },
          "metadata": {},
          "execution_count": 9
        }
      ],
      "source": [
        "weights"
      ]
    },
    {
      "cell_type": "code",
      "execution_count": 10,
      "metadata": {
        "id": "TN4jCBt2css1"
      },
      "outputs": [],
      "source": [
        "def second_order_model(x):\n",
        "    return weights[0] + weights[1]*x + weights[2]*x**2"
      ]
    },
    {
      "cell_type": "code",
      "execution_count": 11,
      "metadata": {
        "id": "8ray3KAhcss1"
      },
      "outputs": [],
      "source": [
        "predicted_y = second_order_model(X)"
      ]
    },
    {
      "cell_type": "code",
      "execution_count": 12,
      "metadata": {
        "colab": {
          "base_uri": "https://localhost:8080/"
        },
        "id": "1ftowj_Kcss1",
        "outputId": "3b3cf6be-d7d9-4d18-a536-600d83c09cc1"
      },
      "outputs": [
        {
          "output_type": "execute_result",
          "data": {
            "text/plain": [
              "array([118727.27272727,  44151.51515152,   8439.3939394 ,  11590.90909091,\n",
              "        53606.06060606, 134484.84848485, 254227.27272727, 412833.33333333,\n",
              "       610303.03030303, 846636.36363636])"
            ]
          },
          "metadata": {},
          "execution_count": 12
        }
      ],
      "source": [
        "predicted_y"
      ]
    },
    {
      "cell_type": "code",
      "execution_count": 13,
      "metadata": {
        "colab": {
          "base_uri": "https://localhost:8080/"
        },
        "id": "HHORmI3rcss2",
        "outputId": "0848f5dc-4da1-41b0-c931-b1ff7f6abaab"
      },
      "outputs": [
        {
          "output_type": "stream",
          "name": "stdout",
          "text": [
            "Mean Squared Error (MSE): 6758833333.333331\n"
          ]
        }
      ],
      "source": [
        "squared_diff = (y - predicted_y) ** 2\n",
        "mse = np.mean(squared_diff)\n",
        "print(\"Mean Squared Error (MSE):\", mse)"
      ]
    },
    {
      "cell_type": "markdown",
      "metadata": {
        "id": "2aQT57RJySAu"
      },
      "source": [
        "### By analysing the cost function, answer the following\n",
        "\n",
        "\n",
        "* Can you use mean squared error as the cost function (Yes/No)?\n",
        "> * yes\n",
        "* Explain why you said yes or no to the above questions.\n",
        "> * MSE is a commonly used cost function for regression problems,predicted values quite far from the actual values"
      ]
    },
    {
      "cell_type": "markdown",
      "metadata": {
        "id": "sTQ46QsyyuYG"
      },
      "source": [
        "**Derivatives of cost function:**\n",
        " $$\n",
        "  \\frac{\\partial MSE}{\\partial w_1} = -\\frac{2}{n} \\sum_{i=1}^n \\left(y_i - (w_1 x_{1i}^2 + w_2 x_{1i} + b)\\right) x_{1i}^2\n",
        "  $$\n",
        "   $$\n",
        "  \\frac{\\partial MSE}{\\partial w_2} = -\\frac{2}{n} \\sum_{i=1}^n \\left(y_i - (w_1 x_{1i}^2 + w_2 x_{1i} + b)\\right) x_{1i}\n",
        "  $$\n",
        "  $$\n",
        "  \\frac{\\partial MSE}{\\partial b} = -\\frac{2}{n} \\sum_{i=1}^n \\left(y_i - (w_1 x_{1i}^2 + w_2 x_{1i} + b)\\right)\n",
        "  $$\n",
        "\n",
        "**Gradient Descent Algorithm:**\n",
        "```\n",
        "Repeat until converges:\n",
        "```\n",
        "$$ Δw_1 = -\\frac{2}{n} \\sum_{i=1}^n \\left( y_i - (w_1 x_{1i}^2 + w_2 x_{1i} + b) \\right) x_{1i}^2 \\$$\n",
        "       \n",
        " $$ Δw_2 = -\\frac{2}{n} \\sum_{i=1}^n \\left( y_i - (w_1 x_{1i}^2 + w_2 x_{1i} + b) \\right) x_{1i}\n",
        "       $$\n",
        "\n",
        "$$ Δb = -\\frac{2}{n} \\sum_{i=1}^n \\left( y_i - (w_1 x_{1i}^2 + w_2 x_{1i} + b) \\right)\n",
        "       $$"
      ]
    },
    {
      "cell_type": "markdown",
      "metadata": {
        "id": "7bzYFCh5zIL4"
      },
      "source": [
        "## Implementation of the model"
      ]
    },
    {
      "cell_type": "code",
      "execution_count": null,
      "metadata": {
        "id": "EPZv6kMJzfk4"
      },
      "outputs": [],
      "source": [
        "# Write a code/ function to do the following\n",
        "\n",
        "# function for your model\n",
        "\n",
        "\n",
        "# a function for your cost function\n",
        "\n",
        "# function to calculate the derivatives\n",
        "\n",
        "# code to estimate the parametes using gradient descent\n",
        "# Aslo estimate the cost function in each iteration\n",
        "\n",
        "# Plot the model with the data given\n",
        "# plot the iteratio VS cost\n",
        "\n",
        "# estimate the solution to the given problem\n",
        "\n",
        "# mark the point or result in the graph (plot)\n",
        "\n",
        "# Estimate the model performance"
      ]
    },
    {
      "cell_type": "code",
      "execution_count": 16,
      "metadata": {
        "id": "6iztAKJwcss3"
      },
      "outputs": [],
      "source": [
        "class polynomialRegression():\n",
        "\n",
        "  def __init__(self):\n",
        "    #No instance Variables required\n",
        "    pass\n",
        "# function for your model\n",
        "\n",
        "  def forward(self,X,y,W):\n",
        "    y_pred = sum(W * X)\n",
        "    # a function for your cost function\n",
        "    loss = ((y_pred-y)**2)/2    #Loss = Squared Error, we introduce 1/2 for ease in the calculation\n",
        "    return loss, y_pred\n",
        "  def updateWeights(self,X,y_pred,y_true,W,alpha,index):\n",
        "\n",
        "    for i in range(X.shape[1]):\n",
        " # function to calculate the derivatives\n",
        "\n",
        "      #alpha = learning rate, rest of the RHS is derivative of loss function\n",
        "      W[i] -= (alpha * (y_pred-y_true[index])*X[index][i])\n",
        "    return W\n",
        "\n",
        "  def train(self, X, y, epochs=10, alpha=0.001, random_state=0):\n",
        "\n",
        "\n",
        "    num_rows = X.shape[0] #Number of Rows\n",
        "    num_cols = X.shape[1] #Number of Columns\n",
        "    W = np.random.randn(1,num_cols) / np.sqrt(num_rows) #Weight Initialization\n",
        "\n",
        "    #Calculating Loss and Updating Weights\n",
        "    train_loss = []\n",
        "    num_epochs = []\n",
        "    train_indices = [i for i in range(X.shape[0])]\n",
        "    # code to estimate the parametes using gradient descent\n",
        "\n",
        "    for j in range(epochs):\n",
        "      cost=0\n",
        "      np.random.seed(random_state)\n",
        "      np.random.shuffle(train_indices)\n",
        "      for i in train_indices:\n",
        "        loss, y_pred = self.forward(X[i],y[i],W[0])\n",
        "        cost+=loss\n",
        "        W[0] = self.updateWeights(X,y_pred,y,W[0],alpha,i)\n",
        "      # Aslo estimate the cost function in each iteration\n",
        "      train_loss.append(cost)\n",
        "      num_epochs.append(j)\n",
        "    return W[0], train_loss, num_epochs\n",
        "\n",
        "  def test(self, X_test, y_test, W_trained):\n",
        "\n",
        "    test_pred = []\n",
        "    test_loss = []\n",
        "    test_indices = [i for i in range(X_test.shape[0])]\n",
        "    for i in test_indices:\n",
        "        loss, y_test_pred = self.forward(X_test[i], W_trained, y_test[i])\n",
        "        test_pred.append(y_test_pred)\n",
        "        test_loss.append(loss)\n",
        "    return test_pred, test_loss\n",
        "\n",
        "\n",
        "  def predict(self, W_trained, X_sample):\n",
        "    prediction = sum(W_trained * X_sample)\n",
        "    return prediction\n",
        "\n",
        "  def plotLoss(self, loss, epochs):\n",
        "\n",
        "    plt.plot(epochs, loss)\n",
        "    plt.xlabel('Number of Epochs')\n",
        "    plt.ylabel('Loss')\n",
        "    plt.title('Plot Loss')\n",
        "    plt.show()"
      ]
    },
    {
      "cell_type": "code",
      "execution_count": 15,
      "metadata": {
        "colab": {
          "base_uri": "https://localhost:8080/"
        },
        "id": "8kVALqXqcss3",
        "outputId": "86c581ed-d290-4aaf-be95-adb958bc0b1d"
      },
      "outputs": [
        {
          "output_type": "stream",
          "name": "stdout",
          "text": [
            "[ 1  2  3  4  5  6  7  8  9 10] [  45000   50000   60000   80000  110000  150000  200000  300000  500000\n",
            " 1000000]\n"
          ]
        }
      ],
      "source": [
        "print(X, y)"
      ]
    },
    {
      "cell_type": "code",
      "execution_count": 17,
      "metadata": {
        "id": "P31npkUWcss3"
      },
      "outputs": [],
      "source": [
        "X = np.asarray(data['Level'].values.tolist())"
      ]
    },
    {
      "cell_type": "code",
      "execution_count": 18,
      "metadata": {
        "colab": {
          "base_uri": "https://localhost:8080/"
        },
        "id": "xWZTZrEXcss3",
        "outputId": "2ccf823d-1dc9-448b-e4d0-a48de8048c12"
      },
      "outputs": [
        {
          "output_type": "execute_result",
          "data": {
            "text/plain": [
              "array([[ 1],\n",
              "       [ 2],\n",
              "       [ 3],\n",
              "       [ 4],\n",
              "       [ 5],\n",
              "       [ 6],\n",
              "       [ 7],\n",
              "       [ 8],\n",
              "       [ 9],\n",
              "       [10]])"
            ]
          },
          "metadata": {},
          "execution_count": 18
        }
      ],
      "source": [
        "X = X.reshape(-1,1)\n",
        "X"
      ]
    },
    {
      "cell_type": "code",
      "execution_count": 19,
      "metadata": {
        "id": "i1Frw-UZcss3"
      },
      "outputs": [],
      "source": [
        "def poly_features(features, X):\n",
        "  data = pd.DataFrame(np.zeros((X.shape[0],features)))\n",
        "  for i in range(1,features+1):\n",
        "    data.iloc[:,i-1] = (X**i).reshape(-1,1)\n",
        "  X_poly = np.array(data.values.tolist())\n",
        "  return X_poly"
      ]
    },
    {
      "cell_type": "code",
      "execution_count": 20,
      "metadata": {
        "colab": {
          "base_uri": "https://localhost:8080/"
        },
        "id": "Jf2j69R7css3",
        "outputId": "0044f538-a257-4c11-c00c-36f82aed68eb"
      },
      "outputs": [
        {
          "output_type": "execute_result",
          "data": {
            "text/plain": [
              "array([[  1.,   1.],\n",
              "       [  2.,   4.],\n",
              "       [  3.,   9.],\n",
              "       [  4.,  16.],\n",
              "       [  5.,  25.],\n",
              "       [  6.,  36.],\n",
              "       [  7.,  49.],\n",
              "       [  8.,  64.],\n",
              "       [  9.,  81.],\n",
              "       [ 10., 100.]])"
            ]
          },
          "metadata": {},
          "execution_count": 20
        }
      ],
      "source": [
        "X = poly_features(2,X)\n",
        "X"
      ]
    },
    {
      "cell_type": "code",
      "execution_count": 21,
      "metadata": {
        "id": "fSzsvNnxcss4"
      },
      "outputs": [],
      "source": [
        "y = np.asarray(data['Salary'].values.tolist())\n",
        "y = y.reshape(len(y),1)"
      ]
    },
    {
      "cell_type": "code",
      "execution_count": 22,
      "metadata": {
        "colab": {
          "base_uri": "https://localhost:8080/"
        },
        "id": "n12GSAyMcss4",
        "outputId": "f3d2be4f-2470-481e-f66a-9a28e0092ade"
      },
      "outputs": [
        {
          "output_type": "execute_result",
          "data": {
            "text/plain": [
              "array([[  45000],\n",
              "       [  50000],\n",
              "       [  60000],\n",
              "       [  80000],\n",
              "       [ 110000],\n",
              "       [ 150000],\n",
              "       [ 200000],\n",
              "       [ 300000],\n",
              "       [ 500000],\n",
              "       [1000000]])"
            ]
          },
          "metadata": {},
          "execution_count": 22
        }
      ],
      "source": [
        "y"
      ]
    },
    {
      "cell_type": "code",
      "execution_count": 23,
      "metadata": {
        "colab": {
          "base_uri": "https://localhost:8080/"
        },
        "id": "7YpnfmXCcss4",
        "outputId": "04333c7e-8196-4adf-9df7-7e6a1e8a065d"
      },
      "outputs": [
        {
          "output_type": "execute_result",
          "data": {
            "text/plain": [
              "array([[  1.,   1.,   1.],\n",
              "       [  2.,   4.,   1.],\n",
              "       [  3.,   9.,   1.],\n",
              "       [  4.,  16.,   1.],\n",
              "       [  5.,  25.,   1.],\n",
              "       [  6.,  36.,   1.],\n",
              "       [  7.,  49.,   1.],\n",
              "       [  8.,  64.,   1.],\n",
              "       [  9.,  81.,   1.],\n",
              "       [ 10., 100.,   1.]])"
            ]
          },
          "metadata": {},
          "execution_count": 23
        }
      ],
      "source": [
        "X = np.concatenate((X,np.ones((10,1))), axis = 1)\n",
        "X"
      ]
    },
    {
      "cell_type": "code",
      "execution_count": 24,
      "metadata": {
        "colab": {
          "base_uri": "https://localhost:8080/"
        },
        "id": "y6gKRYIRcss4",
        "outputId": "904dce71-b384-456e-ec34-f734e4132244"
      },
      "outputs": [
        {
          "output_type": "stream",
          "name": "stderr",
          "text": [
            "<ipython-input-16-1d0daea5aa1a>:19: DeprecationWarning: Conversion of an array with ndim > 0 to a scalar is deprecated, and will error in future. Ensure you extract a single element from your array before performing this operation. (Deprecated NumPy 1.25.)\n",
            "  W[i] -= (alpha * (y_pred-y_true[index])*X[index][i])\n"
          ]
        }
      ],
      "source": [
        "regressor = polynomialRegression()\n",
        "W_trained, train_loss, num_epochs = regressor.train(X, y, epochs=200, alpha=0.00001)"
      ]
    },
    {
      "cell_type": "code",
      "execution_count": 25,
      "metadata": {
        "id": "Hj0a--ZYcss4"
      },
      "outputs": [],
      "source": [
        "def pred_to_plot(W_trained, X):\n",
        "  prediction_values = list()\n",
        "  for i in range(X.shape[0]):\n",
        "    value = regressor.predict(W_trained,X[i])\n",
        "    prediction_values.append(value)\n",
        "  return prediction_values"
      ]
    },
    {
      "cell_type": "code",
      "execution_count": 26,
      "metadata": {
        "colab": {
          "base_uri": "https://localhost:8080/",
          "height": 472
        },
        "id": "At0d2K-Tcss5",
        "outputId": "1e7191d7-354d-4469-f108-0e5f334c15b4"
      },
      "outputs": [
        {
          "output_type": "display_data",
          "data": {
            "text/plain": [
              "<Figure size 640x480 with 1 Axes>"
            ],
            "image/png": "[encoded data removed]"
          },
          "metadata": {}
        }
      ],
      "source": [
        "# Plot the model with the data given\n",
        "pred_plot = pred_to_plot(W_trained,X)\n",
        "plt.scatter(X[:,0], y, color = 'red')\n",
        "plt.plot(X[:,0], pred_plot, color = 'blue')\n",
        "plt.title('Naive Polynomial Regression (N = 2)')\n",
        "plt.xlabel('Position level')\n",
        "plt.ylabel('Salary')\n",
        "plt.show()"
      ]
    },
    {
      "cell_type": "code",
      "execution_count": 27,
      "metadata": {
        "colab": {
          "base_uri": "https://localhost:8080/",
          "height": 472
        },
        "id": "9Enh4EOccss5",
        "outputId": "703c8051-3c84-4974-ff4e-ff014402e561"
      },
      "outputs": [
        {
          "output_type": "display_data",
          "data": {
            "text/plain": [
              "<Figure size 640x480 with 1 Axes>"
            ],
            "image/png": "[encoded data removed]"
          },
          "metadata": {}
        }
      ],
      "source": [
        "# plot the iteratio VS cost\n",
        "regressor.plotLoss(train_loss, num_epochs)"
      ]
    },
    {
      "cell_type": "code",
      "execution_count": 28,
      "metadata": {
        "id": "14348wgwcss5"
      },
      "outputs": [],
      "source": [
        "t_y,ab=regressor.test(X, y, W_trained)"
      ]
    },
    {
      "cell_type": "code",
      "execution_count": 29,
      "metadata": {
        "colab": {
          "base_uri": "https://localhost:8080/"
        },
        "id": "5erA27qucss5",
        "outputId": "90ec70e4-e82c-4967-8f50-70006557a12b"
      },
      "outputs": [
        {
          "output_type": "stream",
          "name": "stdout",
          "text": [
            "(10,)\n",
            "(10, 1)\n"
          ]
        }
      ],
      "source": [
        "predict_y=np.array(t_y)\n",
        "print(predict_y.shape)\n",
        "print(y.shape)"
      ]
    },
    {
      "cell_type": "code",
      "execution_count": 31,
      "metadata": {
        "id": "tu1erxcfcss5"
      },
      "outputs": [],
      "source": [
        "y_true = y\n",
        "y_pred = predict_y"
      ]
    },
    {
      "cell_type": "code",
      "execution_count": 32,
      "metadata": {
        "colab": {
          "base_uri": "https://localhost:8080/"
        },
        "id": "kXcBLhb7css5",
        "outputId": "740338d3-5eba-4c3c-cd19-5c967f5297c9"
      },
      "outputs": [
        {
          "output_type": "stream",
          "name": "stdout",
          "text": [
            "Mean Squared Error: 1495795135500000.0\n",
            "Root Mean Squared Error: 38675510.79817822\n",
            "Mean Absolute Error: 20060900.0\n",
            "R-squared Score: -185438.30221386088\n"
          ]
        }
      ],
      "source": [
        "# Estimate the model performance\n",
        "# Calculate MSE\n",
        "mse = np.mean((y_true - y_pred)**2)\n",
        "print(\"Mean Squared Error:\", mse)\n",
        "\n",
        "# Calculate RMSE\n",
        "rmse = np.sqrt(mse)\n",
        "print(\"Root Mean Squared Error:\", rmse)\n",
        "\n",
        "# Calculate MAE\n",
        "mae = np.mean(np.abs(y_true - y_pred))\n",
        "print(\"Mean Absolute Error:\", mae)\n",
        "\n",
        "# Calculate R^2 Score\n",
        "ss_res = np.sum((y_true - y_pred)**2)\n",
        "ss_tot = np.sum((y_true - np.mean(y_true))**2)\n",
        "r2 = 1 - (ss_res / ss_tot)\n",
        "print(\"R-squared Score:\", r2)"
      ]
    },
    {
      "cell_type": "markdown",
      "metadata": {
        "id": "qhvdbzMx0P-B"
      },
      "source": [
        "### Answer the following\n",
        "\n",
        "* What is learning rate?\n",
        "> * Determines the step size at each iteration\n",
        "* What will happen if the learning rate is too large?\n",
        "> * Model might overshoot the optimal point in the loss(not reach minima)\n",
        "* What will happen if the learning rate is too small?\n",
        "> * we will need too many iterations to converge to the best values(take more time)\n",
        "* If you what to change the second order (quadratic) model to third order model what all things will change in the above code?\n",
        "> $$ y = w_1 x^2 + w_2 x + b $$\n",
        "to:\n",
        ">$$ y = w_3 x^3 + w_1 x^2 + w_2 x + b $$\n",
        "\n",
        "> $$ \\frac{\\partial MSE}{\\partial w_3} = -\\frac{2}{n} \\sum_{i=1}^{n} \\left(y_i - (w_3 x_i^3 + w_1 x_i^2 + w_2 x_i + b)\\right) x_i^3 $$\n",
        "\n",
        "> $$w_3= w_3 - \\alpha \\frac{\\partial MSE}{\\partial w_3} $$"
      ]
    }
  ],
  "metadata": {
    "colab": {
      "provenance": []
    },
    "kernelspec": {
      "display_name": "Python 3 (ipykernel)",
      "language": "python",
      "name": "python3"
    }
  },
  "nbformat": 4,
  "nbformat_minor": 0
}